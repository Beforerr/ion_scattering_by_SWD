{
 "cells": [
  {
   "cell_type": "markdown",
   "metadata": {},
   "source": [
    "# \n",
    "\n",
    "-   [ ] Order of magnitude of estimation of the scattering rate.\n",
    "\n",
    "-   The validality of small $κ$ in observations and its implications in quasi-adibatic approximation.\n",
    "\n",
    "-   The validality of approximate Hamiltonian form for off-center scattering.\n",
    "\n",
    "# TODOs\n",
    "\n",
    "-   [ ] Check the algorithm for energy conservation (Boris pusher)\n",
    "-   [x] GPU acceleration\n",
    "\n",
    "DynamicalSystems.jl - Currently, the limits can not be changed with time.\n",
    "\n",
    "-   Saving as a DataFrame is more space-efficient than saving as a vector of dictionaries"
   ],
   "id": "3646b214-9fde-41cf-bf77-1b341ed97d1c"
  }
 ],
 "nbformat": 4,
 "nbformat_minor": 5,
 "metadata": {}
}
