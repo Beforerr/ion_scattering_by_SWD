{
 "cells": [
  {
   "cell_type": "markdown",
   "metadata": {},
   "source": [
    "#"
   ],
   "id": "b5957842-0956-413b-9047-3eabe7705936"
  },
  {
   "cell_type": "code",
   "execution_count": 1,
   "metadata": {},
   "outputs": [
    {
     "output_type": "stream",
     "name": "stdout",
     "text": [
      "IDL 8.8.3 (darwin x86_64 m64).\n",
      "(c) 2022, L3Harris Geospatial Solutions, Inc.\n",
      "\n",
      "A new version is available: IDL 8.9\n",
      "https://www.l3harrisgeospatial.com/Product-Downloads/\n",
      " \n",
      "Licensed for use by: UCLA - Dept of Geophysics\n",
      "License: 222541"
     ]
    }
   ],
   "source": [
    "# get current directory as idlpy will change it\n",
    "import os\n",
    "\n",
    "cwd = os.getcwd()\n",
    "\n",
    "import pandas as pd\n",
    "import xarray as xr\n",
    "from idlpy import *\n",
    "\n",
    "# restore current directory\n",
    "os.chdir(cwd)"
   ],
   "id": "cell-0"
  },
  {
   "cell_type": "code",
   "execution_count": 2,
   "metadata": {},
   "outputs": [],
   "source": [
    "event01 = {\n",
    "    \"probe\": \"c\",\n",
    "    \"tstart\": \"2020-02-19/06:27:00\",\n",
    "    \"tstop\": \"2020-02-19/06:28:00\",\n",
    "    \"datatype\": \"fgl\",\n",
    "}\n",
    "\n",
    "\n",
    "event02 = {\n",
    "    \"probe\": \"c\",\n",
    "    \"tstart\": \"2021-04-03/04:57:30\",\n",
    "    \"tstop\": \"2021-04-03/04:58:30\",\n",
    "    \"datatype\": \"fgl\",\n",
    "}\n",
    "\n",
    "event03 = {\n",
    "    \"probe\": \"c\",\n",
    "    \"tstart\": \"2022-04-04/18:58:00\",\n",
    "    \"tstop\": \"2022-04-04/18:59:00\",\n",
    "    \"datatype\": \"fgl\",\n",
    "}"
   ],
   "id": "cell-1"
  },
  {
   "cell_type": "code",
   "execution_count": 3,
   "metadata": {},
   "outputs": [
    {
     "output_type": "display_data",
     "metadata": {},
     "data": {
      "text/html": [
       "\n",
       "</div>"
      ]
     }
    }
   ],
   "source": [
    "ds = [event01, event02, event03]\n",
    "pd.DataFrame(ds)"
   ],
   "id": "cell-2"
  },
  {
   "cell_type": "code",
   "execution_count": 23,
   "metadata": {},
   "outputs": [],
   "source": [
    "event = event02"
   ],
   "id": "cell-3"
  },
  {
   "cell_type": "code",
   "execution_count": 42,
   "metadata": {},
   "outputs": [],
   "source": [
    "probe = event[\"probe\"]\n",
    "\n",
    "idl_script = f\"\"\"\n",
    "    probe = '{probe}'\n",
    "    datatype = 'peir'\n",
    "\n",
    "    tstart = '{event[\"tstart\"]}'\n",
    "    tstop = '{event[\"tstop\"]}'\n",
    "    trange = [tstart, tstop]\n",
    "\n",
    "    thm_part_load, probe=probe, trange=trange, datatype=datatype\n",
    "    thm_part_products, probe=probe, datatype=datatype, trange=trange, units='df'\n",
    "    get_data, 'th{probe}_peir_df_energy', data=th{probe}_peir_df_energy\n",
    "    tplot, 'th{probe}_peir_df_energy'\n",
    "\"\"\"\n",
    "\n",
    "for line in idl_script.splitlines():\n",
    "    IDL.run(line)\n",
    "    # print(line)\n",
    "\n",
    "d = IDL.thc_peir_df_energy"
   ],
   "id": "cell-4"
  },
  {
   "cell_type": "code",
   "execution_count": 44,
   "metadata": {},
   "outputs": [
    {
     "output_type": "display_data",
     "metadata": {},
     "data": {
      "text/plain": [
       "{'name': 'event02',\n",
       " 'probe': 'c',\n",
       " 'datatype': 'fgl',\n",
       " 'tstart': '2021-04-03/04:57:30',\n",
       " 'tstop': '2021-04-03/04:58:30'}"
      ]
     }
    }
   ],
   "source": [
    "event"
   ],
   "id": "cell-5"
  },
  {
   "cell_type": "code",
   "execution_count": 52,
   "metadata": {},
   "outputs": [],
   "source": [
    "d = IDL.thc_peir_df_energy\n",
    "time = pd.to_datetime(d[\"X\"], unit=\"s\")\n",
    "energy = xr.DataArray(d[\"V\"], dims=[\"energy\"], name=\"energy\", attrs={\"units\": \"eV\"})\n",
    "df = xr.DataArray(\n",
    "    d[\"Y\"],\n",
    "    dims=[\"energy\", \"time\"],\n",
    "    coords={\"time\": time, \"energy\": energy},\n",
    "    name=f\"th{probe}_peir_df_energy\",\n",
    "    attrs={\"units\": \"s^3/cm^3/km^3\", \"long_name\": \"PSD\"},\n",
    ")\n",
    "df.to_netcdf(f'./data/{event[\"name\"]}_df.nc')"
   ],
   "id": "cell-6"
  },
  {
   "cell_type": "code",
   "execution_count": null,
   "metadata": {
    "kernel": "SoS"
   },
   "outputs": [],
   "source": [
    "# probe='c'\n",
    "# datatype='peir'\n",
    "\n",
    "# tstart='2020-02-19/06:27:00'\n",
    "# tstop='2020-02-19/06:28:00'\n",
    "# trange = [tstart, tstop]\n",
    "\n",
    "# thm_part_load,probe=probe,trange=trange,datatype=datatype\n",
    "# thm_part_products,probe=probe,datatype=datatype,trange=trange, units='df'\n",
    "# ; thm_load_fgm, probe=probe, trange=trange, level='l2', coord='gse', /time_clip\n",
    "# ; copy the data to a new variable\n",
    "# ; copy_data, 'th'+probe+'_'+datatype+'_gse', 'thx_fgm'#\n",
    "\n",
    "# ; makes a single transformation matrix that covers the entire interval\n",
    "# tvar='thx_fgm'\n",
    "# tvar_lmn = 'thx_fgm_lmn'\n",
    "# minvar_matrix_make, 'thx_fgm', tstart=tstart, tstop=tstop\n",
    "# tvector_rotate, 'thx_fgm_mva_mat', 'thx_fgm', newname=tvar_lmn\n",
    "# ; update labels and coordinate system\n",
    "# get_data, tvar_lmn, data=d, dlimits=dl, limits=l\n",
    "# dl.data_att.coord_sys = 'lmn'\n",
    "# dl.labels = ['bl', 'bm', 'bn']\n",
    "# dl.ytitle = tvar_lmn\n",
    "# dl.ysubtitle = '[nT LMN]'\n",
    "# store_data, tvar_lmn, data=d, dlimits=dl, limits=l\n",
    "\n",
    "# tplot, [tvar, tvar_lmn]\n",
    "# makepng, 'thx_fgm_lmn '\n",
    "\n",
    "# ; code-summary: plot bl and bm component\n",
    "# get_data, 'thx_fgm', data=thx_fgm\n",
    "# get_data, 'mva_data', data=mva_data\n",
    "# help, thx_fgm.y, mva_data.y\n",
    "# plot(thx_fgm.y[*,0],thx_fgm.y[*,1])\n",
    "# plot(mva_data.y[*,0],mva_data.y[*,1])"
   ],
   "id": "cell-7"
  }
 ],
 "nbformat": 4,
 "nbformat_minor": 5,
 "metadata": {}
}
