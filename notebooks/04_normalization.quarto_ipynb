{
  "cells": [
    {
      "cell_type": "markdown",
      "metadata": {},
      "source": [
        "---\n",
        "execute: \n",
        "  eval: false\n",
        "---\n",
        "\n",
        "\n",
        "\n",
        "\n",
        "How would normalization affect the transition matrix?\n"
      ],
      "id": "d79763d4"
    },
    {
      "cell_type": "code",
      "metadata": {},
      "source": [
        "using DrWatson\n",
        "using CurrentSheetTestParticle\n",
        "using CurrentSheetTestParticle: inverse_v\n",
        "using Beforerr\n",
        "include(\"../src/utils.jl\")\n",
        "include(\"../src/plot.jl\")\n",
        "tmax = CurrentSheetTestParticle.DEFAULT_TSPAN[2]\n",
        "save_everystep = false\n",
        "verbose = false\n",
        "dtmax = 1e-1\n",
        "diffeq = (; save_everystep, verbose, dtmax)"
      ],
      "id": "94b5ccce",
      "execution_count": null,
      "outputs": []
    },
    {
      "cell_type": "code",
      "metadata": {},
      "source": [
        "p = ProblemParams(\n",
        "    θ=85, β=45, v=64.0, init_kwargs=(; Nw=256, Nϕ=256)\n",
        ")\n",
        "sols, (wϕs, B) = solve_params(p; diffeq...);\n",
        "results = process_sols(sols, B, wϕs)\n",
        "results.iter .= 1"
      ],
      "id": "f7a2bb38",
      "execution_count": null,
      "outputs": []
    },
    {
      "cell_type": "code",
      "metadata": {},
      "source": [
        "function iterate_results(results; iter=3)\n",
        "    results_i = [results]\n",
        "    for i in range(1, iter)\n",
        "        old_u0s = results_i[i].u1\n",
        "        new_u0s = map(old_u0s) do u0\n",
        "            [u0[1:2]..., -u0[3], u0[4:6]...]\n",
        "        end\n",
        "        sols = solve_params(B, new_u0s; diffeq...)\n",
        "        results = process_sols(sols, B, wϕs)\n",
        "        results.iter .= i + 1\n",
        "        push!(results_i, results)\n",
        "    end\n",
        "    vcat(results_i...)\n",
        "end"
      ],
      "id": "127eb3c9",
      "execution_count": null,
      "outputs": []
    },
    {
      "cell_type": "markdown",
      "metadata": {},
      "source": [
        "## Distribution\n"
      ],
      "id": "2715b3ba"
    },
    {
      "cell_type": "code",
      "metadata": {},
      "source": [
        "using DataFramesMeta\n",
        "\n",
        "function process_results_gryo!(df)\n",
        "    @chain df begin\n",
        "        @rtransform!(:ψ1 = inverse_v(:u1, :B)[3])\n",
        "        @transform!(:Δψ = rem2pi.(:ψ1 - :ϕ0, RoundDown))\n",
        "    end\n",
        "end\n",
        "\n",
        "@chain results begin\n",
        "    process_results_gryo!\n",
        "end"
      ],
      "id": "542c55be",
      "execution_count": null,
      "outputs": []
    },
    {
      "cell_type": "code",
      "metadata": {},
      "source": [
        "w_bins = range(-1, 1, length=129)\n",
        "α_bins = range(0, 180, length=129)\n",
        "sinα_bins = range(0, 1, length=63)\n",
        "\n",
        "f = Figure(; size=(1200, 600))\n",
        "l = data(results) * mapping(row=AlgebraOfGraphics.dims(1) => renamer([\"Initial\", \"Final\"]), col=:iter => nonnumeric)\n",
        "normalization = :probability\n",
        "draw!(f[1, 1], l * mapping([w0, w1] .=> \"cos(α)\") * histogram(; bins=w_bins, normalization))\n",
        "draw!(f[1, 2], l * mapping([α0, α1] .=> \"α\") * histogram(; bins=α_bins, normalization))\n",
        "draw!(f[1, 3], l * mapping([:s2α0, :s2α1] .=> \"sin(α)^2\") * histogram(; bins=sinα_bins, normalization))\n",
        "f"
      ],
      "id": "e277bb51",
      "execution_count": null,
      "outputs": []
    },
    {
      "cell_type": "code",
      "metadata": {},
      "source": [
        "ψ_bins = range(0, 2π, length=32)\n",
        "\n",
        "draw(l * mapping([ϕ0, :ψ1] .=> \"ψ\"; layout=leave) * histogram(; bins=ψ_bins))\n",
        "\n",
        "draw(data(results) * mapping(:Δψ; layout=leave) * histogram())"
      ],
      "id": "f581d264",
      "execution_count": null,
      "outputs": []
    },
    {
      "cell_type": "markdown",
      "metadata": {},
      "source": [
        "## Transition matrix\n"
      ],
      "id": "868a5184"
    },
    {
      "cell_type": "code",
      "metadata": {},
      "source": [
        "include(\"../src/tm.jl\")\n",
        "weights = 1 ./ results.t1\n",
        "tm = transition_matrix_w(results)\n",
        "tm_w = transition_matrix_w(results; weights)"
      ],
      "id": "01d2e50a",
      "execution_count": null,
      "outputs": []
    },
    {
      "cell_type": "code",
      "metadata": {},
      "source": [
        "let i = 5, lowclip = 1e-5, colorscale = log10, colorrange = (lowclip, 10)\n",
        "    kw = (; colorscale, colorrange)\n",
        "    f = Figure()\n",
        "\n",
        "    tmi = tm^i\n",
        "    @show sum(tmi; dims=2)\n",
        "    @show sum(tmi; dims=1)\n",
        "\n",
        "    plot!(Axis(f[1, 1]), tm; kw...)\n",
        "    plot!(Axis(f[2, 1]), tmi; kw...)\n",
        "    plot!(Axis(f[1, 2]), tm_w; kw...)\n",
        "    plot!(Axis(f[2, 2]), tm_w^i; kw...)\n",
        "    easy_save(\"tm/tm_weighted\")\n",
        "end"
      ],
      "id": "feb9c99f",
      "execution_count": null,
      "outputs": []
    },
    {
      "cell_type": "code",
      "metadata": {},
      "source": [
        "let i = 16, df = results, binedge = range(0, 1, length=64)\n",
        "    kw = (;)\n",
        "    binedges = (binedge, binedge)\n",
        "    h = Hist2D((df.s2α0, df.s2α1); binedges)\n",
        "    tm = transition_matrix(h)\n",
        "    tmi = tm^i\n",
        "    f = Figure()\n",
        "    plot!(Axis(f[1, 1]), tm; kw...)\n",
        "    plot!(Axis(f[2, 1]), tmi; kw...)\n",
        "    @info sum(tmi; dims=1)\n",
        "    @info sum(tmi; dims=2)\n",
        "    f\n",
        "end"
      ],
      "id": "9a3e3096",
      "execution_count": null,
      "outputs": []
    },
    {
      "cell_type": "code",
      "metadata": {},
      "source": [
        "ψ_scale() = scales(Color=(; colormap=:brocO))\n",
        "\n",
        "let df = results, xy = (w0, ϕ0), figure = (; size=(1200, 600))\n",
        "    f = Figure(; figure...)\n",
        "\n",
        "    spec = data(results) * mapping(xyw...) * density_layer()\n",
        "    cdraw!(f[1, 1], spec, tm_scale(); axis=w_axis)\n",
        "\n",
        "    gl = f[1, 2]\n",
        "    l = data(df) * mapping(xy...)\n",
        "    cdraw!(gl[1, 1], l * (; color=Δw))\n",
        "    cdraw!(gl[2, 1], l * (; color=Δt))\n",
        "    cdraw!(gl[3, 1], l * (; color=:ψ1,), ψ_scale(); colorbar=(; colormap=(:brocO)))\n",
        "    # cdraw!(gl[3, 1], l * (; color=(:Δw, :t1) => (x, y) -> x / y))\n",
        "\n",
        "    easy_save(\"tm/Δw_Δt\")\n",
        "end"
      ],
      "id": "256bf141",
      "execution_count": null,
      "outputs": []
    },
    {
      "cell_type": "markdown",
      "metadata": {},
      "source": [
        "### Averaging\n"
      ],
      "id": "2a530e57"
    },
    {
      "cell_type": "code",
      "metadata": {},
      "source": [
        "using StatsBase\n",
        "results_avg = combine(groupby(results, :w0), :Δψ => mean, :Δw => mean; renamecols=false)\n",
        "sort!(results_avg, :w0)\n",
        "results_avg.Δw_cumsum .= cumsum(results_avg.Δw)\n",
        "\n",
        "r = renamer([\"<Δψ>\", \"<Δ cos α>\", \"<Δ cos α> cumsum\"])\n",
        "ys = [:Δψ, :Δw,]\n",
        "draw(data(results_avg) * mapping(w0, ys; color=dims(1) => r) * visual(Scatter))"
      ],
      "id": "7bb3ec7e",
      "execution_count": null,
      "outputs": []
    },
    {
      "cell_type": "markdown",
      "metadata": {},
      "source": [
        "## Cumulative distribution\n"
      ],
      "id": "778cd067"
    },
    {
      "cell_type": "code",
      "metadata": {},
      "source": [
        "include(\"../src/jump.jl\")"
      ],
      "id": "1f10efae",
      "execution_count": null,
      "outputs": []
    },
    {
      "cell_type": "code",
      "metadata": {},
      "source": [
        "s2α_jumps = df_rand_jumps(results, :s2α0, :Δs2α; n=100)\n",
        "w_jumps = df_rand_jumps(results, :w0, :Δw; n=100)\n",
        "\n",
        "using CairoMakie\n",
        "\n",
        "let position = :rb,\n",
        "\n",
        "    mid_index = div(size(s2α_jumps, 1), 2)\n",
        "\n",
        "    f = Figure(;)\n",
        "    ax = Axis(f[1, 1]; xlabel = \"sin(α)^2\", ylabel = \"F\")\n",
        "    ecdfplot!(s2α_jumps[1, :]; label=\"Initial\")\n",
        "    ecdfplot!(s2α_jumps[mid_index, :]; label=\"Intermediate\", color=Cycled(2))\n",
        "    ecdfplot!(s2α_jumps[end, :]; label=\"Final\", color=Cycled(3))\n",
        "    \n",
        "    Axis(f[1, 2]; xlabel = \"cos(α)\")\n",
        "    ecdfplot!(w_jumps[1, :]; label=\"Initial\")\n",
        "    ecdfplot!(w_jumps[mid_index, :]; label=\"Intermediate\", color=Cycled(2))\n",
        "    ecdfplot!(w_jumps[end, :]; label=\"Final\", color=Cycled(3))\n",
        "\n",
        "    Legend(f[0, 1:end], ax; tellheight = true, orientation = :horizontal)\n",
        "    easy_save(\"pa_cdf\")\n",
        "end"
      ],
      "id": "7ea3b56c",
      "execution_count": null,
      "outputs": []
    },
    {
      "cell_type": "markdown",
      "metadata": {},
      "source": [
        "![](../figures/pa_cdf.png)\n"
      ],
      "id": "2ce94572"
    },
    {
      "cell_type": "code",
      "metadata": {},
      "source": [
        "# calculate the moments of the distribution\n",
        "let jumps = s2α_jumps\n",
        "    diffs = jumps .- jumps[1, :]'\n",
        "    m1 = mean(diffs, dims=2)\n",
        "    m2 = mean(diffs .^ 2, dims=2) - m1 .^ 2\n",
        "    scatterlines(vec(m2))\n",
        "end"
      ],
      "id": "a4692186",
      "execution_count": null,
      "outputs": []
    }
  ],
  "metadata": {
    "kernelspec": {
      "name": "julia-1.10",
      "language": "julia",
      "display_name": "Julia 1.10.4",
      "path": "/Users/zijin/Library/Jupyter/kernels/julia-1.10"
    }
  },
  "nbformat": 4,
  "nbformat_minor": 5
}