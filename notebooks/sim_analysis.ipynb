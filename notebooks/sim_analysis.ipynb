{
 "cells": [
  {
   "cell_type": "code",
   "execution_count": 9,
   "metadata": {},
   "outputs": [],
   "source": [
    "using DrWatson\n",
    "@quickactivate\n",
    "include(srcdir(\"main.jl\"))\n",
    "using DataFrames\n",
    "using AlgebraOfGraphics"
   ]
  },
  {
   "cell_type": "code",
   "execution_count": 10,
   "metadata": {},
   "outputs": [
    {
     "name": "stderr",
     "output_type": "stream",
     "text": [
      "┌ Info: Scanning folder /Users/zijin/projects/ion_scattering_by_SWD/data/simulations for result files.\n",
      "└ @ DrWatson /Users/zijin/.julia/packages/DrWatson/8XYbJ/src/result_collection.jl:117\n",
      "┌ Warning: type Main.#119#122{Float64,Float64} does not exist in workspace; reconstructing\n",
      "└ @ JLD2 /Users/zijin/.julia/packages/JLD2/9xHXH/src/data/reconstructing_datatypes.jl:573\n",
      "┌ Warning: type TestParticle.Field{false,JLD2.ReconstructedStatic{Symbol(\"#119#122{Float64,Float64}\"), (:α, :β), Tuple{Float64, Float64}}} does not exist in workspace; reconstructing\n",
      "└ @ JLD2 /Users/zijin/.julia/packages/JLD2/9xHXH/src/data/reconstructing_datatypes.jl:573\n",
      "┌ Warning: type TestParticle.Field{false,Main.#E_field} does not exist in workspace; reconstructing\n",
      "└ @ JLD2 /Users/zijin/.julia/packages/JLD2/9xHXH/src/data/reconstructing_datatypes.jl:457\n",
      "┌ Warning: read type Tuple{Vector{Float64}, Vector{Float64}, Tuple, Float64} is not a leaf type in workspace; reconstructing\n",
      "└ @ JLD2 /Users/zijin/.julia/packages/JLD2/9xHXH/src/data/reconstructing_datatypes.jl:168\n",
      "┌ Warning: read type Tuple{Vector{ForwardDiff.Dual{ForwardDiff.Tag{DiffEqBase.OrdinaryDiffEqTag, Float64}, Float64, 1}}, Vector{ForwardDiff.Dual{ForwardDiff.Tag{DiffEqBase.OrdinaryDiffEqTag, Float64}, Float64, 1}}, Tuple, Float64} is not a leaf type in workspace; reconstructing\n",
      "└ @ JLD2 /Users/zijin/.julia/packages/JLD2/9xHXH/src/data/reconstructing_datatypes.jl:168\n",
      "┌ Warning: read type Tuple{Vector{ForwardDiff.Dual{ForwardDiff.Tag{DiffEqBase.OrdinaryDiffEqTag, Float64}, Float64, 1}}, Vector{Float64}, Tuple, ForwardDiff.Dual{ForwardDiff.Tag{DiffEqBase.OrdinaryDiffEqTag, Float64}, Float64, 1}} is not a leaf type in workspace; reconstructing\n",
      "└ @ JLD2 /Users/zijin/.julia/packages/JLD2/9xHXH/src/data/reconstructing_datatypes.jl:168\n",
      "┌ Warning: read type Tuple{Vector{ForwardDiff.Dual{ForwardDiff.Tag{DiffEqBase.OrdinaryDiffEqTag, Float64}, Float64, 1}}, Vector{ForwardDiff.Dual{ForwardDiff.Tag{DiffEqBase.OrdinaryDiffEqTag, Float64}, Float64, 1}}, Tuple, ForwardDiff.Dual{ForwardDiff.Tag{DiffEqBase.OrdinaryDiffEqTag, Float64}, Float64, 1}} is not a leaf type in workspace; reconstructing\n",
      "└ @ JLD2 /Users/zijin/.julia/packages/JLD2/9xHXH/src/data/reconstructing_datatypes.jl:168\n",
      "┌ Warning: type parameters for FunctionWrappers.FunctionWrapper{Nothing,JLD2.ReconstructedMutable{Symbol(\"Tuple{Vector{Float64}, Vector{Float64}, Tuple, Float64}\"), (Symbol(\"1\"), Symbol(\"2\"), Symbol(\"3\"), Symbol(\"4\")), Tuple{Any, Any, Tuple, Float64}}} do not match type FunctionWrappers.FunctionWrapper in workspace; reconstructing\n",
      "└ @ JLD2 /Users/zijin/.julia/packages/JLD2/9xHXH/src/data/reconstructing_datatypes.jl:559\n",
      "┌ Warning: type Base.RefValue{SciMLBase.Void{TestParticle.#trace_normalized!}} does not exist in workspace; reconstructing\n",
      "└ @ JLD2 /Users/zijin/.julia/packages/JLD2/9xHXH/src/data/reconstructing_datatypes.jl:457\n",
      "┌ Warning: type parameters for FunctionWrappers.FunctionWrapper{Nothing,JLD2.ReconstructedMutable{Symbol(\"Tuple{Vector{ForwardDiff.Dual{ForwardDiff.Tag{DiffEqBase.OrdinaryDiffEqTag, Float64}, Float64, 1}}, Vector{ForwardDiff.Dual{ForwardDiff.Tag{DiffEqBase.OrdinaryDiffEqTag, Float64}, Float64, 1}}, Tuple, Float64}\"), (Symbol(\"1\"), Symbol(\"2\"), Symbol(\"3\"), Symbol(\"4\")), Tuple{Any, Any, Tuple, Float64}}} do not match type FunctionWrappers.FunctionWrapper in workspace; reconstructing\n",
      "└ @ JLD2 /Users/zijin/.julia/packages/JLD2/9xHXH/src/data/reconstructing_datatypes.jl:559\n",
      "┌ Warning: type parameters for FunctionWrappers.FunctionWrapper{Nothing,JLD2.ReconstructedMutable{Symbol(\"Tuple{Vector{ForwardDiff.Dual{ForwardDiff.Tag{DiffEqBase.OrdinaryDiffEqTag, Float64}, Float64, 1}}, Vector{Float64}, Tuple, ForwardDiff.Dual{ForwardDiff.Tag{DiffEqBase.OrdinaryDiffEqTag, Float64}, Float64, 1}}\"), (Symbol(\"1\"), Symbol(\"2\"), Symbol(\"3\"), Symbol(\"4\")), Tuple{Any, Any, Tuple, ForwardDiff.Dual{ForwardDiff.Tag{DiffEqBase.OrdinaryDiffEqTag, Float64}, Float64, 1}}}} do not match type FunctionWrappers.FunctionWrapper in workspace; reconstructing\n",
      "└ @ JLD2 /Users/zijin/.julia/packages/JLD2/9xHXH/src/data/reconstructing_datatypes.jl:559\n",
      "┌ Warning: type parameters for FunctionWrappers.FunctionWrapper{Nothing,JLD2.ReconstructedMutable{Symbol(\"Tuple{Vector{ForwardDiff.Dual{ForwardDiff.Tag{DiffEqBase.OrdinaryDiffEqTag, Float64}, Float64, 1}}, Vector{ForwardDiff.Dual{ForwardDiff.Tag{DiffEqBase.OrdinaryDiffEqTag, Float64}, Float64, 1}}, Tuple, ForwardDiff.Dual{ForwardDiff.Tag{DiffEqBase.OrdinaryDiffEqTag, Float64}, Float64, 1}}\"), (Symbol(\"1\"), Symbol(\"2\"), Symbol(\"3\"), Symbol(\"4\")), Tuple{Any, Any, Tuple, ForwardDiff.Dual{ForwardDiff.Tag{DiffEqBase.OrdinaryDiffEqTag, Float64}, Float64, 1}}}} do not match type FunctionWrappers.FunctionWrapper in workspace; reconstructing\n",
      "└ @ JLD2 /Users/zijin/.julia/packages/JLD2/9xHXH/src/data/reconstructing_datatypes.jl:559\n",
      "┌ Warning: type Main.#119#122{Float64,Float64} does not exist in workspace; reconstructing\n",
      "└ @ JLD2 /Users/zijin/.julia/packages/JLD2/9xHXH/src/data/reconstructing_datatypes.jl:573\n",
      "┌ Warning: type TestParticle.Field{false,JLD2.ReconstructedStatic{Symbol(\"#119#122{Float64,Float64}\"), (:α, :β), Tuple{Float64, Float64}}} does not exist in workspace; reconstructing\n",
      "└ @ JLD2 /Users/zijin/.julia/packages/JLD2/9xHXH/src/data/reconstructing_datatypes.jl:573\n",
      "┌ Warning: type TestParticle.Field{false,Main.#E_field} does not exist in workspace; reconstructing\n",
      "└ @ JLD2 /Users/zijin/.julia/packages/JLD2/9xHXH/src/data/reconstructing_datatypes.jl:457\n",
      "┌ Warning: read type Tuple{Vector{Float64}, Vector{Float64}, Tuple, Float64} is not a leaf type in workspace; reconstructing\n",
      "└ @ JLD2 /Users/zijin/.julia/packages/JLD2/9xHXH/src/data/reconstructing_datatypes.jl:168\n",
      "┌ Warning: read type Tuple{Vector{ForwardDiff.Dual{ForwardDiff.Tag{DiffEqBase.OrdinaryDiffEqTag, Float64}, Float64, 1}}, Vector{ForwardDiff.Dual{ForwardDiff.Tag{DiffEqBase.OrdinaryDiffEqTag, Float64}, Float64, 1}}, Tuple, Float64} is not a leaf type in workspace; reconstructing\n",
      "└ @ JLD2 /Users/zijin/.julia/packages/JLD2/9xHXH/src/data/reconstructing_datatypes.jl:168\n",
      "┌ Warning: read type Tuple{Vector{ForwardDiff.Dual{ForwardDiff.Tag{DiffEqBase.OrdinaryDiffEqTag, Float64}, Float64, 1}}, Vector{Float64}, Tuple, ForwardDiff.Dual{ForwardDiff.Tag{DiffEqBase.OrdinaryDiffEqTag, Float64}, Float64, 1}} is not a leaf type in workspace; reconstructing\n",
      "└ @ JLD2 /Users/zijin/.julia/packages/JLD2/9xHXH/src/data/reconstructing_datatypes.jl:168\n",
      "┌ Warning: read type Tuple{Vector{ForwardDiff.Dual{ForwardDiff.Tag{DiffEqBase.OrdinaryDiffEqTag, Float64}, Float64, 1}}, Vector{ForwardDiff.Dual{ForwardDiff.Tag{DiffEqBase.OrdinaryDiffEqTag, Float64}, Float64, 1}}, Tuple, ForwardDiff.Dual{ForwardDiff.Tag{DiffEqBase.OrdinaryDiffEqTag, Float64}, Float64, 1}} is not a leaf type in workspace; reconstructing\n",
      "└ @ JLD2 /Users/zijin/.julia/packages/JLD2/9xHXH/src/data/reconstructing_datatypes.jl:168\n",
      "┌ Warning: type parameters for FunctionWrappers.FunctionWrapper{Nothing,JLD2.ReconstructedMutable{Symbol(\"Tuple{Vector{Float64}, Vector{Float64}, Tuple, Float64}\"), (Symbol(\"1\"), Symbol(\"2\"), Symbol(\"3\"), Symbol(\"4\")), Tuple{Any, Any, Tuple, Float64}}} do not match type FunctionWrappers.FunctionWrapper in workspace; reconstructing\n",
      "└ @ JLD2 /Users/zijin/.julia/packages/JLD2/9xHXH/src/data/reconstructing_datatypes.jl:559\n",
      "┌ Warning: type Base.RefValue{SciMLBase.Void{TestParticle.#trace_normalized!}} does not exist in workspace; reconstructing\n",
      "└ @ JLD2 /Users/zijin/.julia/packages/JLD2/9xHXH/src/data/reconstructing_datatypes.jl:457\n",
      "┌ Warning: type parameters for FunctionWrappers.FunctionWrapper{Nothing,JLD2.ReconstructedMutable{Symbol(\"Tuple{Vector{ForwardDiff.Dual{ForwardDiff.Tag{DiffEqBase.OrdinaryDiffEqTag, Float64}, Float64, 1}}, Vector{ForwardDiff.Dual{ForwardDiff.Tag{DiffEqBase.OrdinaryDiffEqTag, Float64}, Float64, 1}}, Tuple, Float64}\"), (Symbol(\"1\"), Symbol(\"2\"), Symbol(\"3\"), Symbol(\"4\")), Tuple{Any, Any, Tuple, Float64}}} do not match type FunctionWrappers.FunctionWrapper in workspace; reconstructing\n",
      "└ @ JLD2 /Users/zijin/.julia/packages/JLD2/9xHXH/src/data/reconstructing_datatypes.jl:559\n",
      "┌ Warning: type parameters for FunctionWrappers.FunctionWrapper{Nothing,JLD2.ReconstructedMutable{Symbol(\"Tuple{Vector{ForwardDiff.Dual{ForwardDiff.Tag{DiffEqBase.OrdinaryDiffEqTag, Float64}, Float64, 1}}, Vector{Float64}, Tuple, ForwardDiff.Dual{ForwardDiff.Tag{DiffEqBase.OrdinaryDiffEqTag, Float64}, Float64, 1}}\"), (Symbol(\"1\"), Symbol(\"2\"), Symbol(\"3\"), Symbol(\"4\")), Tuple{Any, Any, Tuple, ForwardDiff.Dual{ForwardDiff.Tag{DiffEqBase.OrdinaryDiffEqTag, Float64}, Float64, 1}}}} do not match type FunctionWrappers.FunctionWrapper in workspace; reconstructing\n",
      "└ @ JLD2 /Users/zijin/.julia/packages/JLD2/9xHXH/src/data/reconstructing_datatypes.jl:559\n",
      "┌ Warning: type parameters for FunctionWrappers.FunctionWrapper{Nothing,JLD2.ReconstructedMutable{Symbol(\"Tuple{Vector{ForwardDiff.Dual{ForwardDiff.Tag{DiffEqBase.OrdinaryDiffEqTag, Float64}, Float64, 1}}, Vector{ForwardDiff.Dual{ForwardDiff.Tag{DiffEqBase.OrdinaryDiffEqTag, Float64}, Float64, 1}}, Tuple, ForwardDiff.Dual{ForwardDiff.Tag{DiffEqBase.OrdinaryDiffEqTag, Float64}, Float64, 1}}\"), (Symbol(\"1\"), Symbol(\"2\"), Symbol(\"3\"), Symbol(\"4\")), Tuple{Any, Any, Tuple, ForwardDiff.Dual{ForwardDiff.Tag{DiffEqBase.OrdinaryDiffEqTag, Float64}, Float64, 1}}}} do not match type FunctionWrappers.FunctionWrapper in workspace; reconstructing\n",
      "└ @ JLD2 /Users/zijin/.julia/packages/JLD2/9xHXH/src/data/reconstructing_datatypes.jl:559\n",
      "┌ Warning: type Main.#119#122{Float64,Float64} does not exist in workspace; reconstructing\n",
      "└ @ JLD2 /Users/zijin/.julia/packages/JLD2/9xHXH/src/data/reconstructing_datatypes.jl:573\n",
      "┌ Warning: type TestParticle.Field{false,JLD2.ReconstructedStatic{Symbol(\"#119#122{Float64,Float64}\"), (:α, :β), Tuple{Float64, Float64}}} does not exist in workspace; reconstructing\n",
      "└ @ JLD2 /Users/zijin/.julia/packages/JLD2/9xHXH/src/data/reconstructing_datatypes.jl:573\n",
      "┌ Warning: type TestParticle.Field{false,Main.#E_field} does not exist in workspace; reconstructing\n",
      "└ @ JLD2 /Users/zijin/.julia/packages/JLD2/9xHXH/src/data/reconstructing_datatypes.jl:457\n",
      "┌ Warning: read type Tuple{Vector{Float64}, Vector{Float64}, Tuple, Float64} is not a leaf type in workspace; reconstructing\n",
      "└ @ JLD2 /Users/zijin/.julia/packages/JLD2/9xHXH/src/data/reconstructing_datatypes.jl:168\n",
      "┌ Warning: read type Tuple{Vector{ForwardDiff.Dual{ForwardDiff.Tag{DiffEqBase.OrdinaryDiffEqTag, Float64}, Float64, 1}}, Vector{ForwardDiff.Dual{ForwardDiff.Tag{DiffEqBase.OrdinaryDiffEqTag, Float64}, Float64, 1}}, Tuple, Float64} is not a leaf type in workspace; reconstructing\n",
      "└ @ JLD2 /Users/zijin/.julia/packages/JLD2/9xHXH/src/data/reconstructing_datatypes.jl:168\n",
      "┌ Warning: read type Tuple{Vector{ForwardDiff.Dual{ForwardDiff.Tag{DiffEqBase.OrdinaryDiffEqTag, Float64}, Float64, 1}}, Vector{Float64}, Tuple, ForwardDiff.Dual{ForwardDiff.Tag{DiffEqBase.OrdinaryDiffEqTag, Float64}, Float64, 1}} is not a leaf type in workspace; reconstructing\n",
      "└ @ JLD2 /Users/zijin/.julia/packages/JLD2/9xHXH/src/data/reconstructing_datatypes.jl:168\n",
      "┌ Warning: read type Tuple{Vector{ForwardDiff.Dual{ForwardDiff.Tag{DiffEqBase.OrdinaryDiffEqTag, Float64}, Float64, 1}}, Vector{ForwardDiff.Dual{ForwardDiff.Tag{DiffEqBase.OrdinaryDiffEqTag, Float64}, Float64, 1}}, Tuple, ForwardDiff.Dual{ForwardDiff.Tag{DiffEqBase.OrdinaryDiffEqTag, Float64}, Float64, 1}} is not a leaf type in workspace; reconstructing\n",
      "└ @ JLD2 /Users/zijin/.julia/packages/JLD2/9xHXH/src/data/reconstructing_datatypes.jl:168\n",
      "┌ Warning: type parameters for FunctionWrappers.FunctionWrapper{Nothing,JLD2.ReconstructedMutable{Symbol(\"Tuple{Vector{Float64}, Vector{Float64}, Tuple, Float64}\"), (Symbol(\"1\"), Symbol(\"2\"), Symbol(\"3\"), Symbol(\"4\")), Tuple{Any, Any, Tuple, Float64}}} do not match type FunctionWrappers.FunctionWrapper in workspace; reconstructing\n",
      "└ @ JLD2 /Users/zijin/.julia/packages/JLD2/9xHXH/src/data/reconstructing_datatypes.jl:559\n",
      "┌ Warning: type Base.RefValue{SciMLBase.Void{TestParticle.#trace_normalized!}} does not exist in workspace; reconstructing\n",
      "└ @ JLD2 /Users/zijin/.julia/packages/JLD2/9xHXH/src/data/reconstructing_datatypes.jl:457\n",
      "┌ Warning: type parameters for FunctionWrappers.FunctionWrapper{Nothing,JLD2.ReconstructedMutable{Symbol(\"Tuple{Vector{ForwardDiff.Dual{ForwardDiff.Tag{DiffEqBase.OrdinaryDiffEqTag, Float64}, Float64, 1}}, Vector{ForwardDiff.Dual{ForwardDiff.Tag{DiffEqBase.OrdinaryDiffEqTag, Float64}, Float64, 1}}, Tuple, Float64}\"), (Symbol(\"1\"), Symbol(\"2\"), Symbol(\"3\"), Symbol(\"4\")), Tuple{Any, Any, Tuple, Float64}}} do not match type FunctionWrappers.FunctionWrapper in workspace; reconstructing\n",
      "└ @ JLD2 /Users/zijin/.julia/packages/JLD2/9xHXH/src/data/reconstructing_datatypes.jl:559\n",
      "┌ Warning: type parameters for FunctionWrappers.FunctionWrapper{Nothing,JLD2.ReconstructedMutable{Symbol(\"Tuple{Vector{ForwardDiff.Dual{ForwardDiff.Tag{DiffEqBase.OrdinaryDiffEqTag, Float64}, Float64, 1}}, Vector{Float64}, Tuple, ForwardDiff.Dual{ForwardDiff.Tag{DiffEqBase.OrdinaryDiffEqTag, Float64}, Float64, 1}}\"), (Symbol(\"1\"), Symbol(\"2\"), Symbol(\"3\"), Symbol(\"4\")), Tuple{Any, Any, Tuple, ForwardDiff.Dual{ForwardDiff.Tag{DiffEqBase.OrdinaryDiffEqTag, Float64}, Float64, 1}}}} do not match type FunctionWrappers.FunctionWrapper in workspace; reconstructing\n",
      "└ @ JLD2 /Users/zijin/.julia/packages/JLD2/9xHXH/src/data/reconstructing_datatypes.jl:559\n",
      "┌ Warning: type parameters for FunctionWrappers.FunctionWrapper{Nothing,JLD2.ReconstructedMutable{Symbol(\"Tuple{Vector{ForwardDiff.Dual{ForwardDiff.Tag{DiffEqBase.OrdinaryDiffEqTag, Float64}, Float64, 1}}, Vector{ForwardDiff.Dual{ForwardDiff.Tag{DiffEqBase.OrdinaryDiffEqTag, Float64}, Float64, 1}}, Tuple, ForwardDiff.Dual{ForwardDiff.Tag{DiffEqBase.OrdinaryDiffEqTag, Float64}, Float64, 1}}\"), (Symbol(\"1\"), Symbol(\"2\"), Symbol(\"3\"), Symbol(\"4\")), Tuple{Any, Any, Tuple, ForwardDiff.Dual{ForwardDiff.Tag{DiffEqBase.OrdinaryDiffEqTag, Float64}, Float64, 1}}}} do not match type FunctionWrappers.FunctionWrapper in workspace; reconstructing\n",
      "└ @ JLD2 /Users/zijin/.julia/packages/JLD2/9xHXH/src/data/reconstructing_datatypes.jl:559\n",
      "┌ Info: Added 3 entries.\n",
      "└ @ DrWatson /Users/zijin/.julia/packages/DrWatson/8XYbJ/src/result_collection.jl:193\n"
     ]
    }
   ],
   "source": [
    "df = collect_results(datadir(\"simulations\"));"
   ]
  },
  {
   "cell_type": "code",
   "execution_count": null,
   "metadata": {},
   "outputs": [],
   "source": [
    "# sols, sol_field = sim(d)\n",
    "# Step 4: Visualization\n",
    "# plot_trajectory(d) = plot_trajectory(sim(d)...)\n",
    "# f = plot_trajectory(sols, sol_field)\n",
    "# plot_trajectory(d)"
   ]
  },
  {
   "cell_type": "code",
   "execution_count": 13,
   "metadata": {},
   "outputs": [
    {
     "data": {
      "text/plain": [
       "d_cos_pitch_angle (generic function with 2 methods)"
      ]
     },
     "metadata": {},
     "output_type": "display_data"
    }
   ],
   "source": [
    "\"\"\"\n",
    "Cos pitch angle\n",
    "\"\"\"\n",
    "function cos_pitch_angle(u, B)\n",
    "    v = @view u[4:6]\n",
    "    return B ⋅ v / norm(v) / norm(B)\n",
    "end\n",
    "    \n",
    "function cos_pitch_angle(sol::ODESolution, i)\n",
    "    B_field = r -> RD_B_field(r, α, β)\n",
    "    B_func = sol.prob.p[3]\n",
    "    u = sol.u[i]\n",
    "    B = B_func(u)\n",
    "    return cos_pitch_angle(u, B)\n",
    "end\n",
    "\n",
    "function d_cos_pitch_angle(sol)\n",
    "    return cos_pitch_angle(sol, 1) - cos_pitch_angle(sol, length(sol))\n",
    "end\n",
    "\n",
    "function d_cos_pitch_angle(sol::EnsembleSolution)\n",
    "    return map(sol) do s\n",
    "        d_cos_pitch_angle(s)\n",
    "    end\n",
    "end"
   ]
  },
  {
   "cell_type": "code",
   "execution_count": 15,
   "metadata": {},
   "outputs": [
    {
     "ename": "MethodError",
     "evalue": "MethodError: objects of type JLD2.ReconstructedStatic{Symbol(\"Field{false,JLD2.ReconstructedStatic{Symbol(\\\"#119#122{Float64,Float64}\\\"), (:α, :β), Tuple{Float64, Float64}}}\"), (:field_function,), Tuple{JLD2.ReconstructedStatic{Symbol(\"#119#122{Float64,Float64}\"), (:α, :β), Tuple{Float64, Float64}}}} are not callable",
     "output_type": "error",
     "traceback": [
      "MethodError: objects of type JLD2.ReconstructedStatic{Symbol(\"Field{false,JLD2.ReconstructedStatic{Symbol(\\\"#119#122{Float64,Float64}\\\"), (:α, :β), Tuple{Float64, Float64}}}\"), (:field_function,), Tuple{JLD2.ReconstructedStatic{Symbol(\"#119#122{Float64,Float64}\"), (:α, :β), Tuple{Float64, Float64}}}} are not callable\n",
      "\n",
      "Stacktrace:\n",
      "  [1] cos_pitch_angle(sol::ODESolution{Float64, 2, Vector{Vector{Float64}}, Nothing, Nothing, Vector{Float64}, Vector{Vector{Vector{Float64}}}, Nothing, ODEProblem{Vector{Float64}, Tuple{Float64, Float64}, true, Tuple, ODEFunction{true, SciMLBase.AutoSpecialize, FunctionWrappersWrappers.FunctionWrappersWrapper{Tuple, false}, LinearAlgebra.UniformScaling{Bool}, Nothing, Nothing, Nothing, Nothing, Nothing, Nothing, Nothing, Nothing, Nothing, Nothing, Nothing, typeof(SciMLBase.DEFAULT_OBSERVED), Nothing, Nothing, Nothing, Nothing}, @Kwargs{}, SciMLBase.StandardODEProblem}, Vern9{typeof(OrdinaryDiffEqCore.trivial_limiter!), typeof(OrdinaryDiffEqCore.trivial_limiter!), Static.False}, OrdinaryDiffEqCore.InterpolationData{ODEFunction{true, SciMLBase.AutoSpecialize, FunctionWrappersWrappers.FunctionWrappersWrapper{Tuple, false}, LinearAlgebra.UniformScaling{Bool}, Nothing, Nothing, Nothing, Nothing, Nothing, Nothing, Nothing, Nothing, Nothing, Nothing, Nothing, typeof(SciMLBase.DEFAULT_OBSERVED), Nothing, Nothing, Nothing, Nothing}, Vector{Vector{Float64}}, Vector{Float64}, Vector{Vector{Vector{Float64}}}, Nothing, OrdinaryDiffEqVerner.Vern9Cache{Vector{Float64}, Vector{Float64}, Vector{Float64}, typeof(OrdinaryDiffEqCore.trivial_limiter!), typeof(OrdinaryDiffEqCore.trivial_limiter!), Static.False}, Nothing}, SciMLBase.DEStats, Nothing, Nothing, Nothing}, i::Int64)\n",
      "    @ Main ~/projects/ion_scattering_by_SWD/notebooks/jl_notebook_cell_df34fa98e69747e1a8f8a730347b8e2f_W4sZmlsZQ==.jl:12\n",
      "  [2] d_cos_pitch_angle(sol::ODESolution{Float64, 2, Vector{Vector{Float64}}, Nothing, Nothing, Vector{Float64}, Vector{Vector{Vector{Float64}}}, Nothing, ODEProblem{Vector{Float64}, Tuple{Float64, Float64}, true, Tuple, ODEFunction{true, SciMLBase.AutoSpecialize, FunctionWrappersWrappers.FunctionWrappersWrapper{Tuple, false}, LinearAlgebra.UniformScaling{Bool}, Nothing, Nothing, Nothing, Nothing, Nothing, Nothing, Nothing, Nothing, Nothing, Nothing, Nothing, typeof(SciMLBase.DEFAULT_OBSERVED), Nothing, Nothing, Nothing, Nothing}, @Kwargs{}, SciMLBase.StandardODEProblem}, Vern9{typeof(OrdinaryDiffEqCore.trivial_limiter!), typeof(OrdinaryDiffEqCore.trivial_limiter!), Static.False}, OrdinaryDiffEqCore.InterpolationData{ODEFunction{true, SciMLBase.AutoSpecialize, FunctionWrappersWrappers.FunctionWrappersWrapper{Tuple, false}, LinearAlgebra.UniformScaling{Bool}, Nothing, Nothing, Nothing, Nothing, Nothing, Nothing, Nothing, Nothing, Nothing, Nothing, Nothing, typeof(SciMLBase.DEFAULT_OBSERVED), Nothing, Nothing, Nothing, Nothing}, Vector{Vector{Float64}}, Vector{Float64}, Vector{Vector{Vector{Float64}}}, Nothing, OrdinaryDiffEqVerner.Vern9Cache{Vector{Float64}, Vector{Float64}, Vector{Float64}, typeof(OrdinaryDiffEqCore.trivial_limiter!), typeof(OrdinaryDiffEqCore.trivial_limiter!), Static.False}, Nothing}, SciMLBase.DEStats, Nothing, Nothing, Nothing})\n",
      "    @ Main ~/projects/ion_scattering_by_SWD/notebooks/jl_notebook_cell_df34fa98e69747e1a8f8a730347b8e2f_W4sZmlsZQ==.jl:17\n",
      "  [3] #17\n",
      "    @ ~/projects/ion_scattering_by_SWD/notebooks/jl_notebook_cell_df34fa98e69747e1a8f8a730347b8e2f_W4sZmlsZQ==.jl:22 [inlined]\n",
      "  [4] iterate\n",
      "    @ ./generator.jl:47 [inlined]\n",
      "  [5] _collect(c::Vector{ODESolution{Float64, 2, Vector{Vector{Float64}}, Nothing, Nothing, Vector{Float64}, Vector{Vector{Vector{Float64}}}, Nothing, ODEProblem{Vector{Float64}, Tuple{Float64, Float64}, true, Tuple, ODEFunction{true, SciMLBase.AutoSpecialize, FunctionWrappersWrappers.FunctionWrappersWrapper{Tuple, false}, LinearAlgebra.UniformScaling{Bool}, Nothing, Nothing, Nothing, Nothing, Nothing, Nothing, Nothing, Nothing, Nothing, Nothing, Nothing, typeof(SciMLBase.DEFAULT_OBSERVED), Nothing, Nothing, Nothing, Nothing}, @Kwargs{}, SciMLBase.StandardODEProblem}, Vern9{typeof(OrdinaryDiffEqCore.trivial_limiter!), typeof(OrdinaryDiffEqCore.trivial_limiter!), Static.False}, OrdinaryDiffEqCore.InterpolationData{ODEFunction{true, SciMLBase.AutoSpecialize, FunctionWrappersWrappers.FunctionWrappersWrapper{Tuple, false}, LinearAlgebra.UniformScaling{Bool}, Nothing, Nothing, Nothing, Nothing, Nothing, Nothing, Nothing, Nothing, Nothing, Nothing, Nothing, typeof(SciMLBase.DEFAULT_OBSERVED), Nothing, Nothing, Nothing, Nothing}, Vector{Vector{Float64}}, Vector{Float64}, Vector{Vector{Vector{Float64}}}, Nothing, OrdinaryDiffEqVerner.Vern9Cache{Vector{Float64}, Vector{Float64}, Vector{Float64}, typeof(OrdinaryDiffEqCore.trivial_limiter!), typeof(OrdinaryDiffEqCore.trivial_limiter!), Static.False}, Nothing}, SciMLBase.DEStats, Nothing, Nothing, Nothing}}, itr::Base.Generator{Vector{ODESolution{Float64, 2, Vector{Vector{Float64}}, Nothing, Nothing, Vector{Float64}, Vector{Vector{Vector{Float64}}}, Nothing, ODEProblem{Vector{Float64}, Tuple{Float64, Float64}, true, Tuple, ODEFunction{true, SciMLBase.AutoSpecialize, FunctionWrappersWrappers.FunctionWrappersWrapper{Tuple, false}, LinearAlgebra.UniformScaling{Bool}, Nothing, Nothing, Nothing, Nothing, Nothing, Nothing, Nothing, Nothing, Nothing, Nothing, Nothing, typeof(SciMLBase.DEFAULT_OBSERVED), Nothing, Nothing, Nothing, Nothing}, @Kwargs{}, SciMLBase.StandardODEProblem}, Vern9{typeof(OrdinaryDiffEqCore.trivial_limiter!), typeof(OrdinaryDiffEqCore.trivial_limiter!), Static.False}, OrdinaryDiffEqCore.InterpolationData{ODEFunction{true, SciMLBase.AutoSpecialize, FunctionWrappersWrappers.FunctionWrappersWrapper{Tuple, false}, LinearAlgebra.UniformScaling{Bool}, Nothing, Nothing, Nothing, Nothing, Nothing, Nothing, Nothing, Nothing, Nothing, Nothing, Nothing, typeof(SciMLBase.DEFAULT_OBSERVED), Nothing, Nothing, Nothing, Nothing}, Vector{Vector{Float64}}, Vector{Float64}, Vector{Vector{Vector{Float64}}}, Nothing, OrdinaryDiffEqVerner.Vern9Cache{Vector{Float64}, Vector{Float64}, Vector{Float64}, typeof(OrdinaryDiffEqCore.trivial_limiter!), typeof(OrdinaryDiffEqCore.trivial_limiter!), Static.False}, Nothing}, SciMLBase.DEStats, Nothing, Nothing, Nothing}}, var\"#17#18\"}, ::Base.EltypeUnknown, isz::Base.HasShape{1})\n",
      "    @ Base ./array.jl:854\n",
      "  [6] collect_similar\n",
      "    @ ./array.jl:763 [inlined]\n",
      "  [7] map\n",
      "    @ ./abstractarray.jl:3285 [inlined]\n",
      "  [8] map\n",
      "    @ ~/.julia/packages/RecursiveArrayTools/xGKIm/src/vector_of_array.jl:812 [inlined]\n",
      "  [9] d_cos_pitch_angle\n",
      "    @ ~/projects/ion_scattering_by_SWD/notebooks/jl_notebook_cell_df34fa98e69747e1a8f8a730347b8e2f_W4sZmlsZQ==.jl:21 [inlined]\n",
      " [10] _broadcast_getindex_evalf\n",
      "    @ ./broadcast.jl:709 [inlined]\n",
      " [11] _broadcast_getindex\n",
      "    @ ./broadcast.jl:682 [inlined]\n",
      " [12] getindex\n",
      "    @ ./broadcast.jl:636 [inlined]\n",
      " [13] copy\n",
      "    @ ./broadcast.jl:942 [inlined]\n",
      " [14] materialize(bc::Base.Broadcast.Broadcasted{Base.Broadcast.DefaultArrayStyle{1}, Nothing, typeof(d_cos_pitch_angle), Tuple{Vector{Union{Missing, EnsembleSolution{Float64, 3, Vector{ODESolution{Float64, 2, Vector{Vector{Float64}}, Nothing, Nothing, Vector{Float64}, Vector{Vector{Vector{Float64}}}, Nothing, ODEProblem{Vector{Float64}, Tuple{Float64, Float64}, true, Tuple, ODEFunction{true, SciMLBase.AutoSpecialize, FunctionWrappersWrappers.FunctionWrappersWrapper{Tuple, false}, LinearAlgebra.UniformScaling{Bool}, Nothing, Nothing, Nothing, Nothing, Nothing, Nothing, Nothing, Nothing, Nothing, Nothing, Nothing, typeof(SciMLBase.DEFAULT_OBSERVED), Nothing, Nothing, Nothing, Nothing}, @Kwargs{}, SciMLBase.StandardODEProblem}, Vern9{typeof(OrdinaryDiffEqCore.trivial_limiter!), typeof(OrdinaryDiffEqCore.trivial_limiter!), Static.False}, OrdinaryDiffEqCore.InterpolationData{ODEFunction{true, SciMLBase.AutoSpecialize, FunctionWrappersWrappers.FunctionWrappersWrapper{Tuple, false}, LinearAlgebra.UniformScaling{Bool}, Nothing, Nothing, Nothing, Nothing, Nothing, Nothing, Nothing, Nothing, Nothing, Nothing, Nothing, typeof(SciMLBase.DEFAULT_OBSERVED), Nothing, Nothing, Nothing, Nothing}, Vector{Vector{Float64}}, Vector{Float64}, Vector{Vector{Vector{Float64}}}, Nothing, OrdinaryDiffEqVerner.Vern9Cache{Vector{Float64}, Vector{Float64}, Vector{Float64}, typeof(OrdinaryDiffEqCore.trivial_limiter!), typeof(OrdinaryDiffEqCore.trivial_limiter!), Static.False}, Nothing}, SciMLBase.DEStats, Nothing, Nothing, Nothing}}}}}}})\n",
      "    @ Base.Broadcast ./broadcast.jl:903\n",
      " [15] top-level scope\n",
      "    @ ~/projects/ion_scattering_by_SWD/notebooks/jl_notebook_cell_df34fa98e69747e1a8f8a730347b8e2f_W6sZmlsZQ==.jl:1"
     ]
    }
   ],
   "source": [
    "df[!, :Δw] = d_cos_pitch_angle.(df[!, :result]);"
   ]
  },
  {
   "cell_type": "code",
   "execution_count": null,
   "metadata": {},
   "outputs": [],
   "source": []
  }
 ],
 "metadata": {
  "kernelspec": {
   "display_name": "Julia 1.10.2",
   "language": "julia",
   "name": "julia-1.10"
  },
  "language_info": {
   "file_extension": ".jl",
   "mimetype": "application/julia",
   "name": "julia",
   "version": "1.10.2"
  }
 },
 "nbformat": 4,
 "nbformat_minor": 2
}
