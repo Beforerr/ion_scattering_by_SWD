{
 "cells": [
  {
   "cell_type": "code",
   "execution_count": 1,
   "metadata": {},
   "outputs": [
    {
     "name": "stdout",
     "output_type": "stream",
     "text": [
      "IDL 8.8.3 (darwin x86_64 m64).\n",
      "(c) 2022, L3Harris Geospatial Solutions, Inc.\n",
      "\n",
      "A new version is available: IDL 8.9\n",
      "https://www.l3harrisgeospatial.com/Product-Downloads/\n",
      " \n",
      "Licensed for use by: UCLA - Dept of Geophysics\n",
      "License: 222541\n"
     ]
    }
   ],
   "source": [
    "# get current directory as idlpy will change it\n",
    "import os\n",
    "\n",
    "cwd = os.getcwd()\n",
    "\n",
    "from idlpy import *\n",
    "import pandas as pd\n",
    "import xarray as xr\n",
    "\n",
    "# restore current directory\n",
    "os.chdir(cwd)"
   ]
  },
  {
   "cell_type": "code",
   "execution_count": 2,
   "metadata": {},
   "outputs": [],
   "source": [
    "event01 = {\n",
    "    \"probe\": \"c\",\n",
    "    \"tstart\": \"2020-02-19/06:27:00\",\n",
    "    \"tstop\": \"2020-02-19/06:28:00\",\n",
    "    \"datatype\": \"fgl\",\n",
    "}\n",
    "\n",
    "\n",
    "event02 = {\n",
    "    \"probe\": \"c\",\n",
    "    \"tstart\": \"2021-04-03/04:57:30\",\n",
    "    \"tstop\": \"2021-04-03/04:58:30\",\n",
    "    \"datatype\": \"fgl\",\n",
    "}\n",
    "\n",
    "event03 = {\n",
    "    \"probe\": \"c\",\n",
    "    \"tstart\": \"2022-04-04/18:58:00\",\n",
    "    \"tstop\": \"2022-04-04/18:59:00\",\n",
    "    \"datatype\": \"fgl\",\n",
    "}"
   ]
  },
  {
   "cell_type": "code",
   "execution_count": 3,
   "metadata": {},
   "outputs": [
    {
     "data": {
      "text/html": [
       "<div>\n",
       "<style scoped>\n",
       "    .dataframe tbody tr th:only-of-type {\n",
       "        vertical-align: middle;\n",
       "    }\n",
       "\n",
       "    .dataframe tbody tr th {\n",
       "        vertical-align: top;\n",
       "    }\n",
       "\n",
       "    .dataframe thead th {\n",
       "        text-align: right;\n",
       "    }\n",
       "</style>\n",
       "<table border=\"1\" class=\"dataframe\">\n",
       "  <thead>\n",
       "    <tr style=\"text-align: right;\">\n",
       "      <th></th>\n",
       "      <th>probe</th>\n",
       "      <th>tstart</th>\n",
       "      <th>tstop</th>\n",
       "      <th>datatype</th>\n",
       "    </tr>\n",
       "  </thead>\n",
       "  <tbody>\n",
       "    <tr>\n",
       "      <th>0</th>\n",
       "      <td>c</td>\n",
       "      <td>2020-02-19/06:27:00</td>\n",
       "      <td>2020-02-19/06:28:00</td>\n",
       "      <td>fgl</td>\n",
       "    </tr>\n",
       "    <tr>\n",
       "      <th>1</th>\n",
       "      <td>c</td>\n",
       "      <td>2021-04-03/04:57:30</td>\n",
       "      <td>2021-04-03/04:58:30</td>\n",
       "      <td>fgl</td>\n",
       "    </tr>\n",
       "    <tr>\n",
       "      <th>2</th>\n",
       "      <td>c</td>\n",
       "      <td>2022-04-04/18:58:00</td>\n",
       "      <td>2022-04-04/18:59:00</td>\n",
       "      <td>fgl</td>\n",
       "    </tr>\n",
       "  </tbody>\n",
       "</table>\n",
       "</div>"
      ],
      "text/plain": [
       "  probe               tstart                tstop datatype\n",
       "0     c  2020-02-19/06:27:00  2020-02-19/06:28:00      fgl\n",
       "1     c  2021-04-03/04:57:30  2021-04-03/04:58:30      fgl\n",
       "2     c  2022-04-04/18:58:00  2022-04-04/18:59:00      fgl"
      ]
     },
     "execution_count": 3,
     "metadata": {},
     "output_type": "execute_result"
    }
   ],
   "source": [
    "ds = [event01, event02, event03]\n",
    "pd.DataFrame(ds)"
   ]
  },
  {
   "cell_type": "code",
   "execution_count": 23,
   "metadata": {},
   "outputs": [],
   "source": [
    "event = event02"
   ]
  },
  {
   "cell_type": "code",
   "execution_count": 42,
   "metadata": {},
   "outputs": [],
   "source": [
    "probe = event[\"probe\"]\n",
    "\n",
    "idl_script = f\"\"\"\n",
    "    probe = '{probe}'\n",
    "    datatype = 'peir'\n",
    "\n",
    "    tstart = '{event[\"tstart\"]}'\n",
    "    tstop = '{event[\"tstop\"]}'\n",
    "    trange = [tstart, tstop]\n",
    "\n",
    "    thm_part_load, probe=probe, trange=trange, datatype=datatype\n",
    "    thm_part_products, probe=probe, datatype=datatype, trange=trange, units='df'\n",
    "    get_data, 'th{probe}_peir_df_energy', data=th{probe}_peir_df_energy\n",
    "    tplot, 'th{probe}_peir_df_energy'\n",
    "\"\"\"\n",
    "\n",
    "for line in idl_script.splitlines():\n",
    "    IDL.run(line)\n",
    "    # print(line)\n",
    "\n",
    "d = IDL.thc_peir_df_energy"
   ]
  },
  {
   "cell_type": "code",
   "execution_count": 44,
   "metadata": {},
   "outputs": [
    {
     "data": {
      "text/plain": [
       "{'name': 'event02',\n",
       " 'probe': 'c',\n",
       " 'datatype': 'fgl',\n",
       " 'tstart': '2021-04-03/04:57:30',\n",
       " 'tstop': '2021-04-03/04:58:30'}"
      ]
     },
     "execution_count": 44,
     "metadata": {},
     "output_type": "execute_result"
    }
   ],
   "source": [
    "event"
   ]
  },
  {
   "cell_type": "code",
   "execution_count": 52,
   "metadata": {},
   "outputs": [],
   "source": [
    "d = IDL.thc_peir_df_energy\n",
    "time = pd.to_datetime(d[\"X\"], unit=\"s\")\n",
    "energy = xr.DataArray(d[\"V\"], dims=[\"energy\"], name=\"energy\", attrs={\"units\": \"eV\"})\n",
    "df = xr.DataArray(\n",
    "    d[\"Y\"], \n",
    "    dims=[\"energy\", \"time\"], \n",
    "    coords={\"time\": time, \"energy\": energy},\n",
    "    name=f'th{probe}_peir_df_energy',\n",
    "    attrs={\"units\": \"s^3/cm^3/km^3\", \"long_name\": \"PSD\"},\n",
    ")\n",
    "df.to_netcdf(f'./data/{event[\"name\"]}_df.nc')"
   ]
  },
  {
   "cell_type": "code",
   "execution_count": null,
   "metadata": {
    "kernel": "SoS"
   },
   "outputs": [],
   "source": [
    "# probe='c'\n",
    "# datatype='peir'\n",
    "\n",
    "# tstart='2020-02-19/06:27:00'\n",
    "# tstop='2020-02-19/06:28:00'\n",
    "# trange = [tstart, tstop]\n",
    "\n",
    "# thm_part_load,probe=probe,trange=trange,datatype=datatype\n",
    "# thm_part_products,probe=probe,datatype=datatype,trange=trange, units='df'\n",
    "# ; thm_load_fgm, probe=probe, trange=trange, level='l2', coord='gse', /time_clip\n",
    "# ; copy the data to a new variable\n",
    "# ; copy_data, 'th'+probe+'_'+datatype+'_gse', 'thx_fgm'#\n",
    "\n",
    "# ; makes a single transformation matrix that covers the entire interval\n",
    "# tvar='thx_fgm'\n",
    "# tvar_lmn = 'thx_fgm_lmn'\n",
    "# minvar_matrix_make, 'thx_fgm', tstart=tstart, tstop=tstop\n",
    "# tvector_rotate, 'thx_fgm_mva_mat', 'thx_fgm', newname=tvar_lmn\n",
    "# ; update labels and coordinate system\n",
    "# get_data, tvar_lmn, data=d, dlimits=dl, limits=l\n",
    "# dl.data_att.coord_sys = 'lmn'\n",
    "# dl.labels = ['bl', 'bm', 'bn']\n",
    "# dl.ytitle = tvar_lmn\n",
    "# dl.ysubtitle = '[nT LMN]'\n",
    "# store_data, tvar_lmn, data=d, dlimits=dl, limits=l\n",
    "\n",
    "# tplot, [tvar, tvar_lmn]\n",
    "# makepng, 'thx_fgm_lmn '\n",
    "\n",
    "# ; code-summary: plot bl and bm component\n",
    "# get_data, 'thx_fgm', data=thx_fgm\n",
    "# get_data, 'mva_data', data=mva_data\n",
    "# help, thx_fgm.y, mva_data.y\n",
    "# plot(thx_fgm.y[*,0],thx_fgm.y[*,1])\n",
    "# plot(mva_data.y[*,0],mva_data.y[*,1])"
   ]
  }
 ],
 "metadata": {
  "kernelspec": {
   "display_name": "cool_space_science",
   "language": "python",
   "name": "python3"
  },
  "language_info": {
   "codemirror_mode": {
    "name": "ipython",
    "version": 3
   },
   "file_extension": ".py",
   "mimetype": "text/x-python",
   "name": "python",
   "nbconvert_exporter": "python",
   "pygments_lexer": "ipython3",
   "version": "3.10.11"
  },
  "sos": {
   "kernels": [
    [
     "Python 3 (ipykernel)",
     "python3",
     "python3",
     "",
     ""
    ],
    [
     "SoS",
     "sos",
     "",
     "",
     "sos"
    ]
   ],
   "panel": {
    "displayed": false,
    "height": 0
   },
   "version": "0.24.0"
  }
 },
 "nbformat": 4,
 "nbformat_minor": 2
}
